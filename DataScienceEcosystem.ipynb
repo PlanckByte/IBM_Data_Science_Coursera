{
 "cells": [
  {
   "cell_type": "markdown",
   "id": "baf8b0a0-e8a4-4396-8b8e-aab150e4c0ee",
   "metadata": {},
   "source": [
    "# Data Science Tools and Ecosystem"
   ]
  },
  {
   "cell_type": "markdown",
   "id": "e1482ed4-1f39-4e63-9faf-ed5ed1950d76",
   "metadata": {},
   "source": [
    "In this notebook, Data Science Tools and Ecosystem are summarized."
   ]
  },
  {
   "cell_type": "markdown",
   "id": "9a84a68a-c165-41f0-80bb-524b80c37b43",
   "metadata": {},
   "source": [
    "**Objectives**:\n",
    "- Popular Languages\n",
    "- Popular Libraries\n",
    "- Data Science Tools\n",
    "- Numeric Expressions"
   ]
  },
  {
   "cell_type": "markdown",
   "id": "ba712c66-7be9-473e-91f3-b922cfd6d80f",
   "metadata": {},
   "source": [
    "Some of the popular languages that Data Scientists use are:\n",
    "1. Python\n",
    "2. R\n",
    "3. SQL\n",
    "4. Julia"
   ]
  },
  {
   "cell_type": "markdown",
   "id": "b3aec6fa-c5a6-4940-a24a-5b0364a6d750",
   "metadata": {},
   "source": [
    "Some of the commonly used libraries used by Data Scientists include:\n",
    "1. Matplotlib\n",
    "2. Pandas\n",
    "3. Numpy\n",
    "4. Scikit - learn\n",
    "5. Plotly"
   ]
  },
  {
   "cell_type": "markdown",
   "id": "7c26f195-ff65-4a9c-8e06-cf1d65ee4350",
   "metadata": {},
   "source": [
    "| Data Science Tools|\n",
    "| ------------------|\n",
    "| Jupyter Notebook|\n",
    "| Hadoop|\n",
    "|Spark|\n",
    "|Rstudio|\n"
   ]
  },
  {
   "cell_type": "markdown",
   "id": "82bb7f69-5ebc-4a34-8885-3331adea7db4",
   "metadata": {},
   "source": [
    "### Below are a few examples of evaluating arithmetic expressions in Python\n",
    "\n",
    "\n"
   ]
  },
  {
   "cell_type": "code",
   "execution_count": 14,
   "id": "fc1fbec7-4a72-45aa-860a-a01ebc9ba9ba",
   "metadata": {},
   "outputs": [
    {
     "data": {
      "text/plain": [
       "17"
      ]
     },
     "execution_count": 14,
     "metadata": {},
     "output_type": "execute_result"
    }
   ],
   "source": [
    "#This a simple arithmetic expression to mutiply then add integers\n",
    "(3*4)+5"
   ]
  },
  {
   "cell_type": "code",
   "execution_count": 16,
   "id": "b18c9af2-902c-4a3d-ae5b-73a91381ee54",
   "metadata": {},
   "outputs": [
    {
     "data": {
      "text/plain": [
       "3.3333333333333335"
      ]
     },
     "execution_count": 16,
     "metadata": {},
     "output_type": "execute_result"
    }
   ],
   "source": [
    "#This will convert 200 minutes to hours by diving by 60\n",
    "200/60"
   ]
  },
  {
   "cell_type": "markdown",
   "id": "fca5d057-0b8a-4c7a-b35d-02a57d790508",
   "metadata": {},
   "source": [
    "## Author\n",
    "PlanckByte"
   ]
  },
  {
   "cell_type": "code",
   "execution_count": null,
   "id": "d07442ce-2a2b-4097-9969-74e73dc79e04",
   "metadata": {},
   "outputs": [],
   "source": []
  }
 ],
 "metadata": {
  "kernelspec": {
   "display_name": "Python 3 (ipykernel)",
   "language": "python",
   "name": "python3"
  },
  "language_info": {
   "codemirror_mode": {
    "name": "ipython",
    "version": 3
   },
   "file_extension": ".py",
   "mimetype": "text/x-python",
   "name": "python",
   "nbconvert_exporter": "python",
   "pygments_lexer": "ipython3",
   "version": "3.12.3"
  }
 },
 "nbformat": 4,
 "nbformat_minor": 5
}
